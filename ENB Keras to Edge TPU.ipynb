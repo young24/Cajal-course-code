{
  "nbformat": 4,
  "nbformat_minor": 0,
  "metadata": {
    "colab": {
      "name": "ENB Keras to Edge TPU.ipynb",
      "provenance": [],
      "collapsed_sections": []
    },
    "kernelspec": {
      "name": "python3",
      "display_name": "Python 3"
    },
    "language_info": {
      "name": "python"
    }
  },
  "cells": [
    {
      "cell_type": "markdown",
      "metadata": {
        "id": "jpU9DiQHtuD4"
      },
      "source": [
        "# Converting tensorflow keras model to Edge TPU / TFLite\n",
        "\n",
        "Steps\n",
        "\n",
        "* Please upload your trained network here, e.g. as `face.h5`\n",
        "* Also upload around 10-20 images of your face, e.g. in a folder \"faces\"\n",
        "* Execute the cells and download the final model file to your computer and transfer it to your Raspberry Pi for further use.\n",
        "\n",
        "![image.png](data:image/png;base64,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)"
      ]
    },
    {
      "cell_type": "code",
      "metadata": {
        "id": "sRVkDopluYpn"
      },
      "source": [
        "FOLDER_FOR_FACES = \"faces/\"\n",
        "NEURAL_NET = \"face.h5\""
      ],
      "execution_count": 17,
      "outputs": []
    },
    {
      "cell_type": "code",
      "metadata": {
        "id": "U2PeJlbx3B1q"
      },
      "source": [
        "# Load libraries\n",
        "import tensorflow as tf\n",
        "import numpy as np\n",
        "import imageio as io\n",
        "from glob import glob"
      ],
      "execution_count": 10,
      "outputs": []
    },
    {
      "cell_type": "code",
      "metadata": {
        "id": "S4oVixy43SbY"
      },
      "source": [
        "# Create a small dataset such that Tensorflow knows how to optimize the network for TFLITE\n",
        "def dataset_gen():\n",
        "  # Maybe adjust here the folder:\n",
        "  for i in glob(FOLDER_FOR_FACES + \"*.jpg\"):\n",
        "    yield [np.asarray(io.imread(i), dtype=np.float32)[None] / 255.]"
      ],
      "execution_count": 11,
      "outputs": []
    },
    {
      "cell_type": "code",
      "metadata": {
        "colab": {
          "base_uri": "https://localhost:8080/"
        },
        "id": "hEFkCSqR3IsG",
        "outputId": "77040ac1-c5dd-4080-b333-ab4814af0dba"
      },
      "source": [
        "converter = tf.compat.v1.lite.TFLiteConverter.from_keras_model_file(NEURAL_NET)\n",
        "converter.representative_dataset = dataset_gen\n",
        "converter.target_spec.supported_ops = [tf.lite.OpsSet.TFLITE_BUILTINS_INT8]\n",
        "converter.inference_input_type = tf.uint8\n",
        "converter.inference_output_type = tf.uint8\n",
        "converter.optimizations = [tf.lite.Optimize.DEFAULT]\n",
        "tflite_model = converter.convert()\n"
      ],
      "execution_count": 12,
      "outputs": [
        {
          "output_type": "stream",
          "name": "stdout",
          "text": [
            "INFO:tensorflow:Assets written to: /tmp/tmpezaabkj4/assets\n"
          ]
        },
        {
          "output_type": "stream",
          "name": "stderr",
          "text": [
            "INFO:tensorflow:Assets written to: /tmp/tmpezaabkj4/assets\n"
          ]
        },
        {
          "output_type": "stream",
          "name": "stdout",
          "text": [
            "INFO:tensorflow:Restoring parameters from /tmp/tmpezaabkj4/variables/variables\n"
          ]
        },
        {
          "output_type": "stream",
          "name": "stderr",
          "text": [
            "INFO:tensorflow:Restoring parameters from /tmp/tmpezaabkj4/variables/variables\n"
          ]
        },
        {
          "output_type": "stream",
          "name": "stdout",
          "text": [
            "INFO:tensorflow:The given SavedModel MetaGraphDef contains SignatureDefs with the following keys: {'__saved_model_init_op', 'serving_default'}\n"
          ]
        },
        {
          "output_type": "stream",
          "name": "stderr",
          "text": [
            "INFO:tensorflow:The given SavedModel MetaGraphDef contains SignatureDefs with the following keys: {'__saved_model_init_op', 'serving_default'}\n"
          ]
        },
        {
          "output_type": "stream",
          "name": "stdout",
          "text": [
            "INFO:tensorflow:input tensors info: \n"
          ]
        },
        {
          "output_type": "stream",
          "name": "stderr",
          "text": [
            "INFO:tensorflow:input tensors info: \n"
          ]
        },
        {
          "output_type": "stream",
          "name": "stdout",
          "text": [
            "INFO:tensorflow:Tensor's key in saved_model's tensor_map: conv2d_18_input\n"
          ]
        },
        {
          "output_type": "stream",
          "name": "stderr",
          "text": [
            "INFO:tensorflow:Tensor's key in saved_model's tensor_map: conv2d_18_input\n"
          ]
        },
        {
          "output_type": "stream",
          "name": "stdout",
          "text": [
            "INFO:tensorflow: tensor name: serving_default_conv2d_18_input:0, shape: (-1, 128, 128, 3), type: DT_FLOAT\n"
          ]
        },
        {
          "output_type": "stream",
          "name": "stderr",
          "text": [
            "INFO:tensorflow: tensor name: serving_default_conv2d_18_input:0, shape: (-1, 128, 128, 3), type: DT_FLOAT\n"
          ]
        },
        {
          "output_type": "stream",
          "name": "stdout",
          "text": [
            "INFO:tensorflow:output tensors info: \n"
          ]
        },
        {
          "output_type": "stream",
          "name": "stderr",
          "text": [
            "INFO:tensorflow:output tensors info: \n"
          ]
        },
        {
          "output_type": "stream",
          "name": "stdout",
          "text": [
            "INFO:tensorflow:Tensor's key in saved_model's tensor_map: dense_6\n"
          ]
        },
        {
          "output_type": "stream",
          "name": "stderr",
          "text": [
            "INFO:tensorflow:Tensor's key in saved_model's tensor_map: dense_6\n"
          ]
        },
        {
          "output_type": "stream",
          "name": "stdout",
          "text": [
            "INFO:tensorflow: tensor name: StatefulPartitionedCall:0, shape: (-1, 1), type: DT_FLOAT\n"
          ]
        },
        {
          "output_type": "stream",
          "name": "stderr",
          "text": [
            "INFO:tensorflow: tensor name: StatefulPartitionedCall:0, shape: (-1, 1), type: DT_FLOAT\n"
          ]
        },
        {
          "output_type": "stream",
          "name": "stdout",
          "text": [
            "INFO:tensorflow:Restoring parameters from /tmp/tmpezaabkj4/variables/variables\n"
          ]
        },
        {
          "output_type": "stream",
          "name": "stderr",
          "text": [
            "INFO:tensorflow:Restoring parameters from /tmp/tmpezaabkj4/variables/variables\n"
          ]
        }
      ]
    },
    {
      "cell_type": "code",
      "metadata": {
        "id": "S4Zsh_C43tNA"
      },
      "source": [
        "with open(NEURAL_NET[:-3]+\".tflite\", \"wb\") as fp:\n",
        "  fp.write(tflite_model)"
      ],
      "execution_count": 13,
      "outputs": []
    },
    {
      "cell_type": "code",
      "metadata": {
        "colab": {
          "base_uri": "https://localhost:8080/"
        },
        "id": "WAd8Wgf14BAx",
        "outputId": "3da7d5c6-25b1-4c34-c810-6118c69ba204"
      },
      "source": [
        "!curl https://packages.cloud.google.com/apt/doc/apt-key.gpg | sudo apt-key add -\n",
        "!echo \"deb https://packages.cloud.google.com/apt coral-edgetpu-stable main\" | sudo tee /etc/apt/sources.list.d/coral-edgetpu.list\n",
        "!sudo apt-get update\n",
        "!sudo apt-get install edgetpu-compiler\n"
      ],
      "execution_count": 14,
      "outputs": [
        {
          "output_type": "stream",
          "name": "stdout",
          "text": [
            "  % Total    % Received % Xferd  Average Speed   Time    Time     Time  Current\n",
            "                                 Dload  Upload   Total   Spent    Left  Speed\n",
            "\r  0     0    0     0    0     0      0      0 --:--:-- --:--:-- --:--:--     0\r100  2537  100  2537    0     0  53978      0 --:--:-- --:--:-- --:--:-- 53978\n",
            "OK\n",
            "deb https://packages.cloud.google.com/apt coral-edgetpu-stable main\n",
            "Get:1 http://security.ubuntu.com/ubuntu bionic-security InRelease [88.7 kB]\n",
            "Hit:2 https://packages.cloud.google.com/apt coral-edgetpu-stable InRelease\n",
            "Ign:3 https://developer.download.nvidia.com/compute/cuda/repos/ubuntu1804/x86_64  InRelease\n",
            "Hit:4 https://cloud.r-project.org/bin/linux/ubuntu bionic-cran40/ InRelease\n",
            "Ign:5 https://developer.download.nvidia.com/compute/machine-learning/repos/ubuntu1804/x86_64  InRelease\n",
            "Hit:6 http://ppa.launchpad.net/c2d4u.team/c2d4u4.0+/ubuntu bionic InRelease\n",
            "Hit:7 https://developer.download.nvidia.com/compute/cuda/repos/ubuntu1804/x86_64  Release\n",
            "Hit:8 https://developer.download.nvidia.com/compute/machine-learning/repos/ubuntu1804/x86_64  Release\n",
            "Hit:9 http://archive.ubuntu.com/ubuntu bionic InRelease\n",
            "Hit:10 http://archive.ubuntu.com/ubuntu bionic-updates InRelease\n",
            "Hit:11 http://ppa.launchpad.net/cran/libgit2/ubuntu bionic InRelease\n",
            "Hit:12 http://archive.ubuntu.com/ubuntu bionic-backports InRelease\n",
            "Hit:13 http://ppa.launchpad.net/deadsnakes/ppa/ubuntu bionic InRelease\n",
            "Hit:16 http://ppa.launchpad.net/graphics-drivers/ppa/ubuntu bionic InRelease\n",
            "Fetched 88.7 kB in 1s (68.0 kB/s)\n",
            "Reading package lists... Done\n",
            "Reading package lists... Done\n",
            "Building dependency tree       \n",
            "Reading state information... Done\n",
            "edgetpu-compiler is already the newest version (16.0).\n",
            "0 upgraded, 0 newly installed, 0 to remove and 37 not upgraded.\n"
          ]
        }
      ]
    },
    {
      "cell_type": "markdown",
      "metadata": {
        "id": "2vms9Qzmuqlj"
      },
      "source": [
        "Adjust the following line of code to your model name, e.g. face.tflite"
      ]
    },
    {
      "cell_type": "code",
      "metadata": {
        "colab": {
          "base_uri": "https://localhost:8080/"
        },
        "id": "8gB7vmV64Wa5",
        "outputId": "2810f3d7-0b18-48a6-8345-09156323a5cd"
      },
      "source": [
        "!edgetpu_compiler face.tflite"
      ],
      "execution_count": 16,
      "outputs": [
        {
          "output_type": "stream",
          "name": "stdout",
          "text": [
            "Edge TPU Compiler version 16.0.384591198\n",
            "Started a compilation timeout timer of 180 seconds.\n",
            "\n",
            "Model compiled successfully in 158 ms.\n",
            "\n",
            "Input model: anki_face_255.tflite\n",
            "Input size: 162.45KiB\n",
            "Output model: anki_face_255_edgetpu.tflite\n",
            "Output size: 208.59KiB\n",
            "On-chip memory used for caching model parameters: 178.00KiB\n",
            "On-chip memory remaining for caching model parameters: 7.42MiB\n",
            "Off-chip memory used for streaming uncached model parameters: 0.00B\n",
            "Number of Edge TPU subgraphs: 1\n",
            "Total number of operations: 14\n",
            "Operation log: anki_face_255_edgetpu.log\n",
            "See the operation log file for individual operation details.\n",
            "Compilation child process completed within timeout period.\n",
            "Compilation succeeded! \n"
          ]
        }
      ]
    },
    {
      "cell_type": "markdown",
      "metadata": {
        "id": "XlhaGWzwu2at"
      },
      "source": [
        "Now download the model and move it to the Raspberry Pi"
      ]
    },
    {
      "cell_type": "code",
      "metadata": {
        "id": "09ZVFKSPu1G8"
      },
      "source": [
        ""
      ],
      "execution_count": null,
      "outputs": []
    },
    {
      "cell_type": "code",
      "metadata": {
        "id": "Z4_T-vrI4w0R"
      },
      "source": [
        ""
      ],
      "execution_count": null,
      "outputs": []
    }
  ]
}
